{
 "cells": [
  {
   "cell_type": "code",
   "execution_count": null,
   "metadata": {},
   "outputs": [],
   "source": [
    "import os\n",
    "from PIL import Image\n",
    "main = 'C:\\\\Users\\\\JOTOP\\\\practice\\\\img_test\\\\data' # 파일 폴더있는 경로로 설정\n",
    "os.chdir(main)\n",
    "\n",
    "for i in os.listdir(os.getcwd()): # 각 폴더로 들어감\n",
    "    os.chdir(main + '/' + i)\n",
    "    os.mkdir('../resize_{}'.format(i))\n",
    "    for file in os.listdir(os.getcwd()): # 폴더안의 파일들 읽어옴\n",
    "        img = Image.open(file)\n",
    "        img_resize = img.resize((224, 224)) # (int(img.width / 2), int(img.height / 2)) 이런식으로도 가능\n",
    "        img_resize.save('../resize_{}/resize_{}.jpg'.format(i,file), quality=20)    "
   ]
  }
 ],
 "metadata": {
  "kernelspec": {
   "display_name": "Python 3",
   "language": "python",
   "name": "python3"
  },
  "language_info": {
   "codemirror_mode": {
    "name": "ipython",
    "version": 3
   },
   "file_extension": ".py",
   "mimetype": "text/x-python",
   "name": "python",
   "nbconvert_exporter": "python",
   "pygments_lexer": "ipython3",
   "version": "3.7.6"
  }
 },
 "nbformat": 4,
 "nbformat_minor": 4
}
