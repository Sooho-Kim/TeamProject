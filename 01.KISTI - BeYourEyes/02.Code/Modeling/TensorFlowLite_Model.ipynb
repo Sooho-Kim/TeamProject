{
  "nbformat": 4,
  "nbformat_minor": 0,
  "metadata": {
    "colab": {
      "name": "TensorFlowLite_Model.ipynb의 사본",
      "provenance": [],
      "collapsed_sections": [],
      "toc_visible": true
    },
    "kernelspec": {
      "name": "python3",
      "display_name": "Python 3"
    }
  },
  "cells": [
    {
      "cell_type": "markdown",
      "metadata": {
        "id": "opyYJZphGHZ9",
        "colab_type": "text"
      },
      "source": [
        "# TensorFlowLite Model Training\n"
      ]
    },
    {
      "cell_type": "code",
      "metadata": {
        "id": "7tdeeVzLo042",
        "colab_type": "code",
        "colab": {
          "base_uri": "https://localhost:8080/",
          "height": 179
        },
        "outputId": "5797ed90-07f9-468e-9cb3-7ececafd7820"
      },
      "source": [
        "!pip install ipython-autotime\n",
        "%load_ext autotime"
      ],
      "execution_count": null,
      "outputs": [
        {
          "output_type": "stream",
          "text": [
            "Collecting ipython-autotime\n",
            "  Downloading https://files.pythonhosted.org/packages/e6/f9/0626bbdb322e3a078d968e87e3b01341e7890544de891d0cb613641220e6/ipython-autotime-0.1.tar.bz2\n",
            "Building wheels for collected packages: ipython-autotime\n",
            "  Building wheel for ipython-autotime (setup.py) ... \u001b[?25l\u001b[?25hdone\n",
            "  Created wheel for ipython-autotime: filename=ipython_autotime-0.1-cp36-none-any.whl size=1831 sha256=b685b9d846bd80d4b1695e3be49d99dd567a509c06b5e06b628007e7b5d3e3a3\n",
            "  Stored in directory: /root/.cache/pip/wheels/d2/df/81/2db1e54bc91002cec40334629bc39cfa86dff540b304ebcd6e\n",
            "Successfully built ipython-autotime\n",
            "Installing collected packages: ipython-autotime\n",
            "Successfully installed ipython-autotime-0.1\n"
          ],
          "name": "stdout"
        }
      ]
    },
    {
      "cell_type": "code",
      "metadata": {
        "id": "KqdleVbgWMAR",
        "colab_type": "code",
        "colab": {
          "base_uri": "https://localhost:8080/",
          "height": 145
        },
        "outputId": "b88b9815-b43f-4272-a177-156541674643"
      },
      "source": [
        "from google.colab import drive\n",
        "drive.mount('/content/drive')"
      ],
      "execution_count": null,
      "outputs": [
        {
          "output_type": "stream",
          "text": [
            "Go to this URL in a browser: https://accounts.google.com/o/oauth2/auth?client_id=947318989803-6bn6qk8qdgf4n4g3pfee6491hc0brc4i.apps.googleusercontent.com&redirect_uri=urn%3aietf%3awg%3aoauth%3a2.0%3aoob&scope=email%20https%3a%2f%2fwww.googleapis.com%2fauth%2fdocs.test%20https%3a%2f%2fwww.googleapis.com%2fauth%2fdrive%20https%3a%2f%2fwww.googleapis.com%2fauth%2fdrive.photos.readonly%20https%3a%2f%2fwww.googleapis.com%2fauth%2fpeopleapi.readonly&response_type=code\n",
            "\n",
            "Enter your authorization code:\n",
            "··········\n",
            "Mounted at /content/drive\n",
            "time: 18.2 s\n"
          ],
          "name": "stdout"
        }
      ]
    },
    {
      "cell_type": "code",
      "metadata": {
        "id": "unNGpNj0KqPJ",
        "colab_type": "code",
        "colab": {
          "base_uri": "https://localhost:8080/",
          "height": 53
        },
        "outputId": "e512bdfe-68bc-4d2c-d853-5f0f05555317"
      },
      "source": [
        "%cd /content/drive/My Drive/KISTI_TEAM/Image/Final_Imageset4"
      ],
      "execution_count": null,
      "outputs": [
        {
          "output_type": "stream",
          "text": [
            "/content/drive/.shortcut-targets-by-id/10PuVModIagENTfncS7B4E2vWAppXX5Bo/KISTI_TEAM/Image/Final_Imageset4\n",
            "time: 1.16 s\n"
          ],
          "name": "stdout"
        }
      ]
    },
    {
      "cell_type": "code",
      "metadata": {
        "id": "lOx0YVFH5xlt",
        "colab_type": "code",
        "colab": {
          "base_uri": "https://localhost:8080/",
          "height": 323
        },
        "outputId": "6bfb1b91-d7a5-4569-9bfd-87f2c2e40904"
      },
      "source": [
        "pip install -q tflite-model-maker"
      ],
      "execution_count": null,
      "outputs": [
        {
          "output_type": "stream",
          "text": [
            "\u001b[K     |████████████████████████████████| 112kB 2.8MB/s \n",
            "\u001b[K     |████████████████████████████████| 81kB 5.7MB/s \n",
            "\u001b[K     |████████████████████████████████| 1.0MB 10.8MB/s \n",
            "\u001b[K     |████████████████████████████████| 1.1MB 15.6MB/s \n",
            "\u001b[K     |████████████████████████████████| 983kB 23.7MB/s \n",
            "\u001b[K     |████████████████████████████████| 341.4MB 47kB/s \n",
            "\u001b[K     |████████████████████████████████| 296kB 40.6MB/s \n",
            "\u001b[K     |████████████████████████████████| 358kB 38.6MB/s \n",
            "\u001b[K     |████████████████████████████████| 174kB 40.4MB/s \n",
            "\u001b[K     |████████████████████████████████| 102kB 7.4MB/s \n",
            "\u001b[K     |████████████████████████████████| 36.6MB 118kB/s \n",
            "\u001b[K     |████████████████████████████████| 9.1MB 7.5MB/s \n",
            "\u001b[K     |████████████████████████████████| 460kB 36.8MB/s \n",
            "\u001b[?25h  Building wheel for fire (setup.py) ... \u001b[?25l\u001b[?25hdone\n",
            "  Building wheel for py-cpuinfo (setup.py) ... \u001b[?25l\u001b[?25hdone\n",
            "  Building wheel for seqeval (setup.py) ... \u001b[?25l\u001b[?25hdone\n",
            "time: 1min 7s\n"
          ],
          "name": "stdout"
        }
      ]
    },
    {
      "cell_type": "code",
      "metadata": {
        "id": "Qhl445zZMGn-",
        "colab_type": "code",
        "colab": {
          "base_uri": "https://localhost:8080/",
          "height": 35
        },
        "outputId": "61776502-6c8a-48eb-d89d-33a5aa81a699"
      },
      "source": [
        "import numpy as np\n",
        "\n",
        "import tensorflow as tf\n",
        "assert tf.__version__.startswith('2')\n",
        "\n",
        "from tflite_model_maker import configs\n",
        "from tflite_model_maker import image_classifier\n",
        "from tflite_model_maker import ImageClassifierDataLoader\n",
        "from tflite_model_maker import model_spec\n",
        "\n",
        "import matplotlib.pyplot as plt"
      ],
      "execution_count": null,
      "outputs": [
        {
          "output_type": "stream",
          "text": [
            "time: 2.77 s\n"
          ],
          "name": "stdout"
        }
      ]
    },
    {
      "cell_type": "code",
      "metadata": {
        "id": "eOGKJWnVhxa4",
        "colab_type": "code",
        "colab": {
          "base_uri": "https://localhost:8080/",
          "height": 395
        },
        "outputId": "f9c5fa9c-97cd-4698-b5c4-e82c2e4cb9f0"
      },
      "source": [
        "!sudo apt-get install -y fonts-nanum\n",
        "!sudo fc-cache -fv\n",
        "!rm ~/.cache/matplotlib -rf\n",
        "plt.rc('font', family='NanumBarunGothic') "
      ],
      "execution_count": null,
      "outputs": [
        {
          "output_type": "stream",
          "text": [
            "Reading package lists... Done\n",
            "Building dependency tree       \n",
            "Reading state information... Done\n",
            "fonts-nanum is already the newest version (20170925-1).\n",
            "The following package was automatically installed and is no longer required:\n",
            "  libnvidia-common-440\n",
            "Use 'sudo apt autoremove' to remove it.\n",
            "0 upgraded, 0 newly installed, 0 to remove and 35 not upgraded.\n",
            "/usr/share/fonts: caching, new cache contents: 0 fonts, 1 dirs\n",
            "/usr/share/fonts/truetype: caching, new cache contents: 0 fonts, 3 dirs\n",
            "/usr/share/fonts/truetype/humor-sans: caching, new cache contents: 1 fonts, 0 dirs\n",
            "/usr/share/fonts/truetype/liberation: caching, new cache contents: 16 fonts, 0 dirs\n",
            "/usr/share/fonts/truetype/nanum: caching, new cache contents: 10 fonts, 0 dirs\n",
            "/usr/local/share/fonts: caching, new cache contents: 0 fonts, 0 dirs\n",
            "/root/.local/share/fonts: skipping, no such directory\n",
            "/root/.fonts: skipping, no such directory\n",
            "/var/cache/fontconfig: cleaning cache directory\n",
            "/root/.cache/fontconfig: not cleaning non-existent cache directory\n",
            "/root/.fontconfig: not cleaning non-existent cache directory\n",
            "fc-cache: succeeded\n",
            "time: 4.98 s\n"
          ],
          "name": "stdout"
        }
      ]
    },
    {
      "cell_type": "code",
      "metadata": {
        "id": "4JuqbnWwMjqj",
        "colab_type": "code",
        "colab": {
          "base_uri": "https://localhost:8080/",
          "height": 71
        },
        "outputId": "8c47a775-8264-45d2-d996-7da8223b870c"
      },
      "source": [
        "#데이터 불러오기(데이터 class로 나눠져 있는 것)\n",
        "import os\n",
        "execution_path = os.getcwd()\n",
        "beverage_path = os.path.join(execution_path, 'beverage')\n",
        "train_data = ImageClassifierDataLoader.from_folder(os.path.join(beverage_path, 'train'))\n",
        "validation_data = ImageClassifierDataLoader.from_folder(os.path.join(beverage_path, 'test'))"
      ],
      "execution_count": null,
      "outputs": [
        {
          "output_type": "stream",
          "text": [
            "INFO:tensorflow:Load image with size: 44411, num_label: 10, labels: 2프로 부족할 때, 데미소다 사과, 밀키스, 칠성 사이다, 코카콜라, 토레타, 파워 에이드, 펩시, 포카리 스웨트, 환타 오렌지.\n",
            "INFO:tensorflow:Load image with size: 2345, num_label: 10, labels: 2프로 부족할 때, 데미소다 사과, 밀키스, 칠성 사이다, 코카콜라, 토레타, 파워에이드, 펩시, 포카리 스웨트, 환타 오렌지.\n",
            "time: 1min 33s\n"
          ],
          "name": "stdout"
        }
      ]
    },
    {
      "cell_type": "code",
      "metadata": {
        "id": "DzDjgIjoO3P_",
        "colab_type": "code",
        "colab": {
          "base_uri": "https://localhost:8080/",
          "height": 35
        },
        "outputId": "436b75fa-dd4a-4c78-fb23-65bf79b29103"
      },
      "source": [
        "#inceptionV3 불러오기\n",
        "inception_v3_spec = model_spec.ImageModelSpec(\n",
        "    uri='https://tfhub.dev/google/imagenet/inception_v3/feature_vector/1')\n",
        "inception_v3_spec.input_image_shape = [299, 299]"
      ],
      "execution_count": null,
      "outputs": [
        {
          "output_type": "stream",
          "text": [
            "time: 1.26 ms\n"
          ],
          "name": "stdout"
        }
      ]
    },
    {
      "cell_type": "code",
      "metadata": {
        "id": "uPprTbmIN3Js",
        "colab_type": "code",
        "colab": {
          "base_uri": "https://localhost:8080/",
          "height": 1000
        },
        "outputId": "3b77964e-7132-4edf-81d8-6f1fe262d23d"
      },
      "source": [
        "#mobilenetV2 불러오고 모델링\n",
        "model = image_classifier.create(train_data, model_spec=model_spec.mobilenet_v2_spec, validation_data=validation_data, epochs=20, dropout_rate=0.2, batch_size=32)"
      ],
      "execution_count": null,
      "outputs": [
        {
          "output_type": "stream",
          "text": [
            "INFO:tensorflow:Retraining the models...\n",
            "Model: \"sequential\"\n",
            "_________________________________________________________________\n",
            "Layer (type)                 Output Shape              Param #   \n",
            "=================================================================\n",
            "hub_keras_layer_v1v2 (HubKer (None, 1280)              2257984   \n",
            "_________________________________________________________________\n",
            "dropout (Dropout)            (None, 1280)              0         \n",
            "_________________________________________________________________\n",
            "dense (Dense)                (None, 10)                12810     \n",
            "=================================================================\n",
            "Total params: 2,270,794\n",
            "Trainable params: 12,810\n",
            "Non-trainable params: 2,257,984\n",
            "_________________________________________________________________\n",
            "None\n",
            "Epoch 1/20\n",
            "1387/1387 [==============================] - 9213s 7s/step - loss: 1.1461 - accuracy: 0.7530 - val_loss: 1.3613 - val_accuracy: 0.6370\n",
            "Epoch 2/20\n",
            "1387/1387 [==============================] - 1862s 1s/step - loss: 0.8857 - accuracy: 0.8738 - val_loss: 1.4210 - val_accuracy: 0.6160\n",
            "Epoch 3/20\n",
            "1387/1387 [==============================] - 1831s 1s/step - loss: 0.8690 - accuracy: 0.8816 - val_loss: 1.3278 - val_accuracy: 0.6575\n",
            "Epoch 4/20\n",
            "1387/1387 [==============================] - 1825s 1s/step - loss: 0.8588 - accuracy: 0.8843 - val_loss: 1.3688 - val_accuracy: 0.6447\n",
            "Epoch 5/20\n",
            "1387/1387 [==============================] - 1829s 1s/step - loss: 0.8555 - accuracy: 0.8875 - val_loss: 1.4211 - val_accuracy: 0.6254\n",
            "Epoch 6/20\n",
            "1387/1387 [==============================] - 1848s 1s/step - loss: 0.8542 - accuracy: 0.8874 - val_loss: 1.4306 - val_accuracy: 0.6229\n",
            "Epoch 7/20\n",
            "1387/1387 [==============================] - 1846s 1s/step - loss: 0.8555 - accuracy: 0.8868 - val_loss: 1.3719 - val_accuracy: 0.6485\n",
            "Epoch 8/20\n",
            "1387/1387 [==============================] - 1836s 1s/step - loss: 0.8528 - accuracy: 0.8876 - val_loss: 1.4003 - val_accuracy: 0.6374\n",
            "Epoch 9/20\n",
            "1387/1387 [==============================] - 1849s 1s/step - loss: 0.8555 - accuracy: 0.8861 - val_loss: 1.3166 - val_accuracy: 0.6670\n",
            "Epoch 10/20\n",
            "1387/1387 [==============================] - 1865s 1s/step - loss: 0.8566 - accuracy: 0.8876 - val_loss: 1.3796 - val_accuracy: 0.6460\n",
            "Epoch 11/20\n",
            "1387/1387 [==============================] - 1863s 1s/step - loss: 0.8519 - accuracy: 0.8873 - val_loss: 1.3538 - val_accuracy: 0.6584\n",
            "Epoch 12/20\n",
            "1387/1387 [==============================] - 1861s 1s/step - loss: 0.8524 - accuracy: 0.8885 - val_loss: 1.3232 - val_accuracy: 0.6661\n",
            "Epoch 13/20\n",
            "1387/1387 [==============================] - 1845s 1s/step - loss: 0.8513 - accuracy: 0.8892 - val_loss: 1.3055 - val_accuracy: 0.6751\n",
            "Epoch 14/20\n",
            "1387/1387 [==============================] - 1838s 1s/step - loss: 0.8480 - accuracy: 0.8915 - val_loss: 1.3323 - val_accuracy: 0.6622\n",
            "Epoch 15/20\n",
            "1387/1387 [==============================] - 1842s 1s/step - loss: 0.8519 - accuracy: 0.8899 - val_loss: 1.2762 - val_accuracy: 0.6871\n",
            "Epoch 16/20\n",
            "1387/1387 [==============================] - 1834s 1s/step - loss: 0.8508 - accuracy: 0.8922 - val_loss: 1.3019 - val_accuracy: 0.6824\n",
            "Epoch 17/20\n",
            "1387/1387 [==============================] - 1834s 1s/step - loss: 0.8549 - accuracy: 0.8883 - val_loss: 1.3137 - val_accuracy: 0.6682\n",
            "Epoch 18/20\n",
            "1387/1387 [==============================] - 1830s 1s/step - loss: 0.8535 - accuracy: 0.8892 - val_loss: 1.3635 - val_accuracy: 0.6511\n",
            "Epoch 19/20\n",
            "1387/1387 [==============================] - 1842s 1s/step - loss: 0.8518 - accuracy: 0.8890 - val_loss: 1.3214 - val_accuracy: 0.6682\n",
            "Epoch 20/20\n",
            " 387/1387 [=======>......................] - ETA: 21:02 - loss: 0.8483 - accuracy: 0.8907"
          ],
          "name": "stdout"
        }
      ]
    },
    {
      "cell_type": "code",
      "metadata": {
        "id": "FRbLbpZOOrfP",
        "colab_type": "code",
        "colab": {
          "base_uri": "https://localhost:8080/",
          "height": 190
        },
        "outputId": "2b087297-71f6-4e16-f637-57a9f635d52a"
      },
      "source": [
        "#평가하기\n",
        "loss, accuracy = model.evaluate(test_data)"
      ],
      "execution_count": null,
      "outputs": [
        {
          "output_type": "error",
          "ename": "NameError",
          "evalue": "ignored",
          "traceback": [
            "\u001b[0;31m---------------------------------------------------------------------------\u001b[0m",
            "\u001b[0;31mNameError\u001b[0m                                 Traceback (most recent call last)",
            "\u001b[0;32m<ipython-input-1-873ef796f40a>\u001b[0m in \u001b[0;36m<module>\u001b[0;34m()\u001b[0m\n\u001b[1;32m      1\u001b[0m \u001b[0;31m#평가하기\u001b[0m\u001b[0;34m\u001b[0m\u001b[0;34m\u001b[0m\u001b[0;34m\u001b[0m\u001b[0m\n\u001b[0;32m----> 2\u001b[0;31m \u001b[0mloss\u001b[0m\u001b[0;34m,\u001b[0m \u001b[0maccuracy\u001b[0m \u001b[0;34m=\u001b[0m \u001b[0mmodel\u001b[0m\u001b[0;34m.\u001b[0m\u001b[0mevaluate\u001b[0m\u001b[0;34m(\u001b[0m\u001b[0mtest_data\u001b[0m\u001b[0;34m)\u001b[0m\u001b[0;34m\u001b[0m\u001b[0;34m\u001b[0m\u001b[0m\n\u001b[0m",
            "\u001b[0;31mNameError\u001b[0m: name 'model' is not defined"
          ]
        }
      ]
    },
    {
      "cell_type": "code",
      "metadata": {
        "id": "X5GqiWTVPBqB",
        "colab_type": "code",
        "colab": {
          "base_uri": "https://localhost:8080/",
          "height": 172
        },
        "outputId": "f9ddfde9-025f-416f-cdf0-ab5df98ccd40"
      },
      "source": [
        "#저장하기\n",
        "model.export(export_dir='/content/drive/My Drive/KISTI_TEAM/Modeling/', label_filename=label)"
      ],
      "execution_count": null,
      "outputs": [
        {
          "output_type": "error",
          "ename": "NameError",
          "evalue": "ignored",
          "traceback": [
            "\u001b[0;31m---------------------------------------------------------------------------\u001b[0m",
            "\u001b[0;31mNameError\u001b[0m                                 Traceback (most recent call last)",
            "\u001b[0;32m<ipython-input-2-5a870fbc6d0e>\u001b[0m in \u001b[0;36m<module>\u001b[0;34m()\u001b[0m\n\u001b[0;32m----> 1\u001b[0;31m \u001b[0mmodel\u001b[0m\u001b[0;34m.\u001b[0m\u001b[0mexport\u001b[0m\u001b[0;34m(\u001b[0m\u001b[0mexport_dir\u001b[0m\u001b[0;34m=\u001b[0m\u001b[0;34m'/content/drive/My Drive/KISTI_TEAM/Modeling/'\u001b[0m\u001b[0;34m,\u001b[0m \u001b[0mlabel_filename\u001b[0m\u001b[0;34m=\u001b[0m\u001b[0mlabel\u001b[0m\u001b[0;34m)\u001b[0m\u001b[0;34m\u001b[0m\u001b[0;34m\u001b[0m\u001b[0m\n\u001b[0m",
            "\u001b[0;31mNameError\u001b[0m: name 'model' is not defined"
          ]
        }
      ]
    }
  ]
}